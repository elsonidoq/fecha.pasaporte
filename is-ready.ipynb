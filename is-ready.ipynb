{
 "cells": [
  {
   "cell_type": "code",
   "execution_count": 1,
   "id": "fc23aba2",
   "metadata": {},
   "outputs": [
    {
     "name": "stdout",
     "output_type": "stream",
     "text": [
      "0\n"
     ]
    }
   ],
   "source": [
    "import os\n",
    "print(len(os.environ.get('PASS', '')))"
   ]
  },
  {
   "cell_type": "code",
   "execution_count": 9,
   "id": "4e0d1380",
   "metadata": {},
   "outputs": [],
   "source": [
    "import smtplib\n",
    "from email.mime.text import MIMEText\n",
    "from email.mime.multipart import MIMEMultipart\n",
    "\n",
    "def send_mail(body):\n",
    "\n",
    "    # Gmail account credentials\n",
    "    sender_email = os.environ['USR']\n",
    "    sender_password = os.environ['PASS']\n",
    "\n",
    "    # Recipient email address\n",
    "    recipient_email = 'elsonidoq@gmail.com'\n",
    "\n",
    "    # Create a message object\n",
    "    message = MIMEMultipart()\n",
    "    message[\"From\"] = sender_email\n",
    "    message[\"To\"] = recipient_email\n",
    "    message[\"Subject\"] = \"[pasaporte español]\"\n",
    "\n",
    "    # Email body\n",
    "    message.attach(MIMEText(body, \"plain\"))\n",
    "\n",
    "    # Connect to Gmail's SMTP server\n",
    "    smtp_server = \"smtp.gmail.com\"\n",
    "    smtp_port = 587\n",
    "    smtp_connection = smtplib.SMTP(smtp_server, smtp_port)\n",
    "    smtp_connection.starttls()\n",
    "\n",
    "    # Login to Gmail account\n",
    "    smtp_connection.login(sender_email, sender_password)\n",
    "\n",
    "    # Send the email\n",
    "    smtp_connection.sendmail(sender_email, recipient_email, message.as_string())\n",
    "\n",
    "    # Close the connection\n",
    "    smtp_connection.quit()\n",
    "\n",
    "    print(\"Email sent successfully!\")"
   ]
  },
  {
   "cell_type": "code",
   "execution_count": 1,
   "id": "5fbcb158",
   "metadata": {},
   "outputs": [],
   "source": [
    "import requests\n",
    "from bs4 import BeautifulSoup\n",
    "\n",
    "\n",
    "def find(soup):\n",
    "    for e in soup.find_all('tr'):\n",
    "        if 'Pasaporte' in str(e):\n",
    "            if 'fecha por confirmar' in str(e): \n",
    "                return False\n",
    "            else:\n",
    "                return True\n",
    "\n",
    "def main():\n",
    "\n",
    "    url = 'https://www.cgeonline.com.ar/informacion/apertura-de-citas.html'\n",
    "\n",
    "    response = requests.get(url)\n",
    "\n",
    "    html_doc = response.content\n",
    "\n",
    "    soup = BeautifulSoup(html_doc, 'html.parser')\n",
    "\n",
    "\n",
    "    if find(soup):\n",
    "        send_mail(body = \"Hay fecha! https://www.cgeonline.com.ar/informacion/apertura-de-citas.html\")\n",
    "    else:\n",
    "        send_mail(body='no news')"
   ]
  }
 ],
 "metadata": {
  "kernelspec": {
   "display_name": "Python 3 (ipykernel)",
   "language": "python",
   "name": "python3"
  },
  "language_info": {
   "codemirror_mode": {
    "name": "ipython",
    "version": 3
   },
   "file_extension": ".py",
   "mimetype": "text/x-python",
   "name": "python",
   "nbconvert_exporter": "python",
   "pygments_lexer": "ipython3",
   "version": "3.9.12"
  }
 },
 "nbformat": 4,
 "nbformat_minor": 5
}
