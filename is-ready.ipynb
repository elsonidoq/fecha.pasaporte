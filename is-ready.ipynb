{
 "cells": [
  {
   "cell_type": "code",
   "execution_count": 1,
   "id": "64f44ed6",
   "metadata": {},
   "outputs": [
    {
     "name": "stdout",
     "output_type": "stream",
     "text": [
      "0\n"
     ]
    }
   ],
   "source": [
    "import os\n",
    "print(len(os.environ.get('PASS', '')))"
   ]
  },
  {
   "cell_type": "code",
   "execution_count": 1,
   "id": "5fbcb158",
   "metadata": {},
   "outputs": [],
   "source": [
    "import requests\n",
    "from bs4 import BeautifulSoup\n",
    "\n",
    "\n",
    "def find(soup):\n",
    "    for e in soup.find_all('tr'):\n",
    "        if 'Pasaporte' in str(e):\n",
    "            if 'fecha por confirmar' in str(e): \n",
    "                return False\n",
    "            else:\n",
    "                return True\n",
    "\n",
    "def main():\n",
    "\n",
    "    url = 'https://www.cgeonline.com.ar/informacion/apertura-de-citas.html'\n",
    "\n",
    "    response = requests.get(url)\n",
    "\n",
    "    html_doc = response.content\n",
    "\n",
    "    soup = BeautifulSoup(html_doc, 'html.parser')\n",
    "\n",
    "\n",
    "    find(soup)"
   ]
  }
 ],
 "metadata": {
  "kernelspec": {
   "display_name": "Python 3 (ipykernel)",
   "language": "python",
   "name": "python3"
  },
  "language_info": {
   "codemirror_mode": {
    "name": "ipython",
    "version": 3
   },
   "file_extension": ".py",
   "mimetype": "text/x-python",
   "name": "python",
   "nbconvert_exporter": "python",
   "pygments_lexer": "ipython3",
   "version": "3.9.12"
  }
 },
 "nbformat": 4,
 "nbformat_minor": 5
}
